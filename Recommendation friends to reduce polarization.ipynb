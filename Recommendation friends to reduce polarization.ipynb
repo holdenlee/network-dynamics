{
 "cells": [
  {
   "cell_type": "code",
   "execution_count": 428,
   "metadata": {},
   "outputs": [],
   "source": [
    "# %load main.py\n",
    "import networkx as nx\n",
    "import random as rand\n",
    "import itertools\n",
    "from utils import *\n",
    "import math\n",
    "\n",
    "class Person(object):\n",
    "    #static variable\n",
    "    population = 0\n",
    "    def __init__(self,id_num=None,ideo=None, capacity=4.0):\n",
    "        self.id_num = id_num if id_num!=None else Person.population\n",
    "        Person.population += 1\n",
    "        self.ideo = ideo if ideo!=None else rand.uniform(-1,1)\n",
    "        #2*randint(0,1)-1\n",
    "        #rand.uniform(-1,1)\n",
    "        self.capacity = capacity\n",
    "    def __eq__(self,other):\n",
    "        if not (isinstance(other,Person)):\n",
    "            return False\n",
    "        return self.id_num==other.id_num\n",
    "    def __hash__(self):\n",
    "        return hash(self.id_num)\n",
    "\n",
    "def clamp(x,lo=0,hi=1):\n",
    "    return lo if x<lo else \\\n",
    "           hi if x>hi else x\n",
    "\n",
    "def new_ideo(graph,node,wt=0.9,noise=0.05):\n",
    "    s = sum_friend_weights(graph,node)\n",
    "    return clamp(wt*node.ideo \n",
    "        + ((1-wt)*sum([nbr.ideo*graph.adj[node][nbr]['weight'] for nbr in graph.adj[node]])/s\n",
    "                 if s!=0 else (1-wt)*node.ideo)\n",
    "        + rand.gauss(0,noise),-1,1)\n",
    "\n",
    "def update_ideos(graph, wt=0.9,noise=0.05):\n",
    "    #ideos = [new_ideo(graph,node,wt,noise) for node in graph.nodes()]\n",
    "    ideos = [new_ideo(graph,node,.8+.2*abs(node.ideo),noise) for node in graph.nodes()]\n",
    "    for (node, ideo) in zip(graph.nodes(),ideos):\n",
    "        node.ideo = ideo\n",
    "\n",
    "def update_friendships(graph, node, sigma=0.05):\n",
    "    dels = []\n",
    "    for nbr in graph.adj[node]:\n",
    "        graph.adj[node][nbr]['weight']= clamp(graph.adj[node][nbr]['weight'] - .01*(abs(node.ideo-nbr.ideo)-1)\n",
    "                                              + rand.gauss(0,sigma))\n",
    "        if graph.adj[node][nbr]['weight']==0:\n",
    "            dels +=[nbr]\n",
    "    for nbr in dels:\n",
    "        graph.remove_edge(node,nbr)\n",
    "\n",
    "def get_potential_friend(graph, node, p=0.1):\n",
    "    if graph.degree(node) >= 1 and rand.random()<0.1:\n",
    "        fofs = list(itertools.chain.from_iterable([graph.adj[f1] for f1 in graph.adj[node]]))\n",
    "        return min(fofs,key=lambda v:abs(node.ideo-v.ideo))\n",
    "    elif rand.random()<p:\n",
    "        friend = sample(list(graph.nodes()))\n",
    "    else:\n",
    "        f = step_rand_walk(graph,node)\n",
    "        if f==None:\n",
    "            return None\n",
    "        friend = step_rand_walk(graph,f)\n",
    "        if friend==None:\n",
    "            return None #this shouldn't happen\n",
    "    if not (friend == None or node == friend or friend in graph.adj[node]):\n",
    "        #graph.add_edge(node, friend, weight=0.5)\n",
    "        return friend\n",
    "    return None\n",
    "\n",
    "def maybe_make_friend(graph, node, p=0.1, acc_fn=lambda me, you: math.exp(abs(me.ideo-you.ideo))):\n",
    "    if rand.random()<=(node.capacity - sum_friend_weights(graph,node))/node.capacity:\n",
    "        friend = get_potential_friend(graph,node,p)\n",
    "        if friend == None:\n",
    "            return None\n",
    "        if rand.random()<=acc_fn(node, friend):\n",
    "            graph.add_edge(node, friend, weight=0.5)\n",
    "            return friend\n",
    "    return None\n",
    "\n",
    "def sum_friend_weights(graph,node):\n",
    "    return sum([graph.adj[node][neighbor]['weight'] for neighbor in graph.adj[node]])\n",
    "\n",
    "def step_rand_walk(graph, node):\n",
    "    #print(node)\n",
    "    sum_weights = sum_friend_weights(graph, node)\n",
    "    if sum_weights==0:\n",
    "        return None\n",
    "    li = [(neighbor, graph.adj[node][neighbor]['weight']/sum_weights) for neighbor in graph.adj[node]]\n",
    "    #print(li)\n",
    "    x = sample_wp(li)\n",
    "    #print(\"hi\",x)\n",
    "    return x\n",
    "\n",
    "def sample(li):\n",
    "    if len(li)==0:\n",
    "        return None\n",
    "    return li[rand.randint(0,len(li)-1)]\n",
    "\n",
    "def loop_step(graph,sigma=0.05,p=0.1,\n",
    "              acc_fn=lambda me, you: math.exp(-abs(me.ideo-you.ideo)), influence=False,\n",
    "              wt=0.9,noise=0):\n",
    "    for node in graph.nodes():\n",
    "        if influence:\n",
    "            update_ideos(graph, wt, noise)\n",
    "        update_friendships(graph,node,sigma)\n",
    "        maybe_make_friend(graph,node,p,acc_fn)\n",
    "\n",
    "def init_graph(pop):\n",
    "    nodes = [Person(capacity=rand.randint(2,5)) for i in range(pop)]\n",
    "    G=nx.Graph()\n",
    "    G.add_nodes_from(nodes)\n",
    "    return G\n",
    "\n",
    "def test():\n",
    "    G = nx.Graph()\n",
    "    G.add_nodes_from([1,2,3,4,5,6])\n",
    "    G.add_edges_from([(1,2,{'weight':1.0}),\n",
    "                      (1,3,{'weight':2.0}),\n",
    "                      (2,4,{'weight':10.0}),\n",
    "                      (3,5,{'weight':10.0}),\n",
    "                      (3,6,{'weight':20.0})])\n",
    "    #print(G.adj)\n",
    "    for t in range(15):\n",
    "        print(step_rand_walk(G,step_rand_walk(G,1)))\n",
    "    nx.draw(G)\n",
    "    p=Person()\n",
    "    q=Person()\n",
    "    print(Person.population)"
   ]
  },
  {
   "cell_type": "code",
   "execution_count": 79,
   "metadata": {
    "scrolled": true
   },
   "outputs": [
    {
     "data": {
      "text/plain": [
       "<Figure size 432x288 with 0 Axes>"
      ]
     },
     "metadata": {},
     "output_type": "display_data"
    }
   ],
   "source": [
    "import matplotlib.pyplot as plt\n",
    "%matplotlib inline\n",
    "plt.clf()"
   ]
  },
  {
   "cell_type": "code",
   "execution_count": 429,
   "metadata": {
    "scrolled": true
   },
   "outputs": [
    {
     "data": {
      "image/png": "[encoded data removed]",
      "text/plain": [
       "<Figure size 432x288 with 1 Axes>"
      ]
     },
     "metadata": {},
     "output_type": "display_data"
    }
   ],
   "source": [
    "G=init_graph(200)\n",
    "colors = [person.ideo for person in G.nodes()]\n",
    "#print(G.nodes())\n",
    "for t in range(500):\n",
    "    loop_step(G, sigma=0.1,p=0.1, acc_fn=lambda me, you: .3#math.exp(-abs(me.ideo-you.ideo))\n",
    "             )\n",
    "plt.clf()\n",
    "nx.draw(G, node_size=50, node_color = colors, cmap=plt.cm.viridis, vmin=-1, vmax=1)\n",
    "#nx.draw(G)"
   ]
  },
  {
   "cell_type": "code",
   "execution_count": 430,
   "metadata": {},
   "outputs": [
    {
     "data": {
      "text/plain": [
       "Text(0,0.5,'Average Ideology of Friends')"
      ]
     },
     "execution_count": 430,
     "metadata": {},
     "output_type": "execute_result"
    },
    {
     "data": {
      "image/png": "[encoded data removed]",
      "text/plain": [
       "<Figure size 432x288 with 1 Axes>"
      ]
     },
     "metadata": {},
     "output_type": "display_data"
    }
   ],
   "source": [
    "people = [person for person in G.nodes if G.degree(person)>0]\n",
    "xs = [person.ideo for person in people]\n",
    "ys = [sum([friend.ideo * G.adj[person][friend]['weight'] for friend in G.adj[person]])/sum([G.adj[person][friend]['weight'] for friend in G.adj[person]]) for person in people]\n",
    "plt.plot(xs, ys, 'o')\n",
    "plt.xlabel('Ideology')\n",
    "plt.ylabel('Average Ideology of Friends')"
   ]
  },
  {
   "cell_type": "code",
   "execution_count": 431,
   "metadata": {},
   "outputs": [
    {
     "data": {
      "text/plain": [
       "(0.7914295290039051, 5.50842508128407e-44)"
      ]
     },
     "execution_count": 431,
     "metadata": {},
     "output_type": "execute_result"
    }
   ],
   "source": [
    "from scipy.stats.stats import pearsonr\n",
    "pearsonr(xs,ys)"
   ]
  },
  {
   "cell_type": "code",
   "execution_count": 276,
   "metadata": {},
   "outputs": [
    {
     "data": {
      "text/plain": [
       "[0.28169833538269007,\n",
       " 0.2816983353826893,\n",
       " 0.28169833538269007,\n",
       " 0.2816983353826902,\n",
       " 0.28169833538269023,\n",
       " 0.281698335382691,\n",
       " 0.28169833538268885,\n",
       " 0.2816983353826896,\n",
       " 0.28169833538269073,\n",
       " 0.28169833538269,\n",
       " 0.2816983353826908,\n",
       " 0.2816983353826896,\n",
       " 0.28169833538269123,\n",
       " 0.2816983353826902,\n",
       " 0.28169833538268907,\n",
       " 0.28169833538268985,\n",
       " 0.281698335382691,\n",
       " 0.28169833538268924,\n",
       " 0.2816983353826905,\n",
       " 0.28169833538268924,\n",
       " 0.28169833538269007,\n",
       " 0.28169833538268946,\n",
       " 0.2816983353826906,\n",
       " 0.28169833538269007,\n",
       " 0.28169833538268946,\n",
       " 0.2816983353826906,\n",
       " 0.281698335382691,\n",
       " 0.28169833538268946,\n",
       " 0.2816983353826895,\n",
       " 0.28169833538269007,\n",
       " 0.28169833538269,\n",
       " 0.2816983353826903,\n",
       " 0.2816983353826906,\n",
       " 0.28169833538268996,\n",
       " 0.28169833538268985,\n",
       " 0.2816983353826904,\n",
       " 0.28169833538268907,\n",
       " 0.2816983353826904,\n",
       " 0.2816983353826904,\n",
       " 0.28169833538269123,\n",
       " 0.28169833538268946,\n",
       " 0.2816983353826908,\n",
       " 0.28169833538268946,\n",
       " 0.281698335382691,\n",
       " 0.2816983353826896,\n",
       " 0.2816983353826896,\n",
       " 0.28169833538269073,\n",
       " 0.2816983353826906,\n",
       " 0.2816983353826893,\n",
       " 0.28169833538268985,\n",
       " 0.28169833538269007,\n",
       " 0.2816983353826902,\n",
       " 0.2816983353826906,\n",
       " 0.28169833538268924,\n",
       " 0.28169833538268907,\n",
       " 0.2816983353826907,\n",
       " 0.2816983353826904,\n",
       " 0.2816983353826895,\n",
       " 0.28169833538268946,\n",
       " 0.2816983353826902,\n",
       " 0.28169833538269007,\n",
       " 0.2816983353826904,\n",
       " 0.28169833538268946,\n",
       " 0.28169833538268907,\n",
       " 0.28169833538269073,\n",
       " 0.2816983353826906,\n",
       " 0.28169833538269,\n",
       " 0.2816983353826912,\n",
       " 0.28169833538269123,\n",
       " 0.28169833538269007,\n",
       " 0.28169833538268907,\n",
       " 0.28169833538269123,\n",
       " 0.2816983353826904,\n",
       " 0.2816983353826904,\n",
       " 0.8679212041721625,\n",
       " 0.2816983353826896,\n",
       " 0.28169833538269096,\n",
       " 0.281698335382691,\n",
       " 0.28169833538268985,\n",
       " 0.28169833538268946,\n",
       " 0.28169833538268946,\n",
       " 0.2816983353826898,\n",
       " 0.2816983353826904,\n",
       " 0.2816983353826893,\n",
       " 0.2816983353826908,\n",
       " 0.28169833538269073,\n",
       " 0.281698335382691,\n",
       " 0.28169833538268985,\n",
       " 0.2816983353826896,\n",
       " 0.28169833538268946,\n",
       " 0.2816983353826908,\n",
       " 0.2816983353826903,\n",
       " 0.2816983353826906,\n",
       " 0.2816983353826896,\n",
       " 0.28169833538268907,\n",
       " 0.2816983353826906,\n",
       " 0.28169833538268924,\n",
       " 0.28169833538268924,\n",
       " 0.28169833538268924,\n",
       " 0.28169833538268924]"
      ]
     },
     "execution_count": 276,
     "metadata": {},
     "output_type": "execute_result"
    }
   ],
   "source": [
    "xs"
   ]
  },
  {
   "cell_type": "code",
   "execution_count": null,
   "metadata": {
    "collapsed": true
   },
   "outputs": [],
   "source": []
  }
 ],
 "metadata": {
  "hide_input": false,
  "kernelspec": {
   "display_name": "Python 3",
   "language": "python",
   "name": "python3"
  },
  "language_info": {
   "codemirror_mode": {
    "name": "ipython",
    "version": 3
   },
   "file_extension": ".py",
   "mimetype": "text/x-python",
   "name": "python",
   "nbconvert_exporter": "python",
   "pygments_lexer": "ipython3",
   "version": "3.6.5"
  }
 },
 "nbformat": 4,
 "nbformat_minor": 2
}
