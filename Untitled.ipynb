{
 "cells": [
  {
   "cell_type": "code",
   "execution_count": 5,
   "metadata": {},
   "outputs": [
    {
     "name": "stdout",
     "output_type": "stream",
     "text": [
      "5\n",
      "1\n",
      "6\n",
      "4\n",
      "5\n",
      "4\n",
      "6\n",
      "6\n",
      "5\n",
      "5\n",
      "5\n",
      "6\n",
      "4\n",
      "6\n",
      "6\n",
      "2\n"
     ]
    },
    {
     "data": {
      "image/png": "[encoded data removed]",
      "text/plain": [
       "<matplotlib.figure.Figure at 0xbe37c18>"
      ]
     },
     "metadata": {},
     "output_type": "display_data"
    }
   ],
   "source": [
    "# %load main.py\n",
    "%matplotlib inline  \n",
    "import networkx as nx\n",
    "import random as rand\n",
    "from utils import *\n",
    "\n",
    "class Person(object):\n",
    "    #static variable\n",
    "    population = 0\n",
    "    def __init__(self,id_num=None,ideo=None):\n",
    "        self.id_num = id_num if id_num!=None else Person.population\n",
    "        Person.population += 1\n",
    "        self.ideo = ideo if ideo!=None else rand.uniform(-1,1)\n",
    "    def __eq__(self,other):\n",
    "        return self.id_num==other.id_num\n",
    "    def __hash__(self):\n",
    "        return hash(self.id_num)\n",
    "\n",
    "def clamp(x,lo,hi):\n",
    "    return lo if x<lo else \\\n",
    "           hi if x>hi else x\n",
    "\n",
    "def update_friendships(graph, node, sigma):\n",
    "    for nbr in graph.adj[node]:\n",
    "        graph.adj[node][neighbor]['weight']+=rand.gauss(0,sigma)\n",
    "\n",
    "def step_rand_walk(graph, node):\n",
    "    #print(node)\n",
    "    sum_weights = sum([graph.adj[node][neighbor]['weight'] for neighbor in graph.adj[node]])\n",
    "    li = [(neighbor, graph.adj[node][neighbor]['weight']/sum_weights) for neighbor in graph.adj[node]]\n",
    "    #print(li)\n",
    "    x = sample_wp(li)\n",
    "    #print(\"hi\",x)\n",
    "    return x\n",
    "\n",
    "def test():\n",
    "    G = nx.Graph()\n",
    "    G.add_nodes_from([1,2,3,4,5,6])\n",
    "    G.add_edges_from([(1,2,{'weight':1.0}),\n",
    "                      (1,3,{'weight':2.0}),\n",
    "                      (2,4,{'weight':10.0}),\n",
    "                      (3,5,{'weight':10.0}),\n",
    "                      (3,6,{'weight':20.0})])\n",
    "    #print(G.adj)\n",
    "    nx.draw(G)\n",
    "    for t in range(15):\n",
    "        print(step_rand_walk(G,step_rand_walk(G,1)))\n",
    "    p=Person()\n",
    "    q=Person()\n",
    "    print(Person.population)\n",
    "    \n",
    "if __name__=='__main__':\n",
    "    test()\n"
   ]
  },
  {
   "cell_type": "code",
   "execution_count": null,
   "metadata": {
    "collapsed": true
   },
   "outputs": [],
   "source": []
  }
 ],
 "metadata": {
  "kernelspec": {
   "display_name": "Python 2",
   "language": "python",
   "name": "python2"
  },
  "language_info": {
   "codemirror_mode": {
    "name": "ipython",
    "version": 2
   },
   "file_extension": ".py",
   "mimetype": "text/x-python",
   "name": "python",
   "nbconvert_exporter": "python",
   "pygments_lexer": "ipython2",
   "version": "2.7.13"
  }
 },
 "nbformat": 4,
 "nbformat_minor": 2
}
